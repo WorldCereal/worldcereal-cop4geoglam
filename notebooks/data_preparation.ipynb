{
 "cells": [
  {
   "cell_type": "code",
   "execution_count": 4,
   "id": "1b82b84d",
   "metadata": {},
   "outputs": [],
   "source": [
    "from pathlib import Path\n",
    "import geopandas as gpd\n",
    "\n",
    "file_path = Path(\"/home/vito/millig/projects/worldcereal/COP4GEOGLAM/kenya\")\n",
    "LR_file = list(file_path.glob(\"*LR*\"))[0]\n",
    "SR_file = list(file_path.glob(\"*SR*\"))[0]\n",
    "LR = gpd.read_parquet(LR_file)\n",
    "SR = gpd.read_parquet(SR_file)"
   ]
  },
  {
   "cell_type": "code",
   "execution_count": 7,
   "id": "23cd179d",
   "metadata": {},
   "outputs": [
    {
     "data": {
      "text/plain": [
       "0        0\n",
       "1        0\n",
       "2        0\n",
       "3        0\n",
       "4        0\n",
       "        ..\n",
       "25067    0\n",
       "25068    1\n",
       "25069    1\n",
       "25070    1\n",
       "25071    1\n",
       "Name: extract, Length: 25072, dtype: int64"
      ]
     },
     "execution_count": 7,
     "metadata": {},
     "output_type": "execute_result"
    }
   ],
   "source": [
    "LR['extract']"
   ]
  },
  {
   "cell_type": "code",
   "execution_count": 8,
   "id": "7e100390",
   "metadata": {},
   "outputs": [
    {
     "data": {
      "text/plain": [
       "Index(['feature_index', 'sample_id', 'ref_id', 'timestamp', 'S2-L2A-B02',\n",
       "       'S2-L2A-B03', 'S2-L2A-B04', 'S2-L2A-B05', 'S2-L2A-B06', 'S2-L2A-B07',\n",
       "       'S2-L2A-B08', 'S2-L2A-B11', 'S2-L2A-B12', 'S1-SIGMA0-VH',\n",
       "       'S1-SIGMA0-VV', 'slope', 'elevation', 'AGERA5-PRECIP', 'AGERA5-TMEAN',\n",
       "       'lon', 'lat', 'geometry', 'tile', 'h3_l3_cell', 'start_date',\n",
       "       'end_date', 'year', 'valid_time', 'ewoc_code', 'irrigation_status',\n",
       "       'quality_score_lc', 'quality_score_ct', 'extract'],\n",
       "      dtype='object')"
      ]
     },
     "execution_count": 8,
     "metadata": {},
     "output_type": "execute_result"
    }
   ],
   "source": [
    "LR.columns"
   ]
  },
  {
   "cell_type": "code",
   "execution_count": 13,
   "id": "2b5bf84c",
   "metadata": {},
   "outputs": [],
   "source": [
    "import pandas as pd\n",
    "\n",
    "ARTIFACTORY_BASE_URL = (\n",
    "    \"https://artifactory.vgt.vito.be/artifactory/auxdata-public/worldcereal/\"\n",
    ")\n",
    "CROP_LEGEND_URL = ARTIFACTORY_BASE_URL + \"legend/WorldCereal_LC_CT_legend_latest.csv\"\n",
    "legend = pd.read_csv(CROP_LEGEND_URL, header=0, sep=\";\")\n",
    "legend[\"ewoc_code\"] = legend[\"ewoc_code\"].str.replace(\"-\", \"\").astype(int)\n",
    "legend = legend.ffill(axis=1)\n",
    "\n",
    "LR[\"label_full\"] = LR[\"ewoc_code\"].map(\n",
    "    legend.set_index(\"ewoc_code\")[\"label_full\"]\n",
    ")\n",
    "SR[\"label_full\"] = SR[\"ewoc_code\"].map(legend.set_index(\"ewoc_code\")[\"label_full\"])"
   ]
  },
  {
   "cell_type": "code",
   "execution_count": 12,
   "id": "8bcee78b",
   "metadata": {},
   "outputs": [
    {
     "data": {
      "text/plain": [
       "array(['maize', 'cropland_unspecified', 'sugar_cane', 'sunflower',\n",
       "       'leafy_stem_vegetables', 'grass_fodder_crops',\n",
       "       'unspecified_millet', 'unspecified_sorghum', 'tea', 'cassava',\n",
       "       'beans', 'pineapples', 'groundnuts', 'bananas_plantains',\n",
       "       'unspecified_wheat', 'tomato', 'potatoes', 'sweet_potatoes',\n",
       "       'non_cropland_herbaceous', 'trees_mixed', 'shrubland',\n",
       "       'temporary_crops', 'built_up', 'vegetables_fruits', 'coffee',\n",
       "       'onion_shallot', 'root_vegetables', 'cow_peas', 'carrots_daucus',\n",
       "       'cabbage'], dtype=object)"
      ]
     },
     "execution_count": 12,
     "metadata": {},
     "output_type": "execute_result"
    }
   ],
   "source": [
    "LR[\"label_full\"].unique()"
   ]
  },
  {
   "cell_type": "code",
   "execution_count": 17,
   "id": "7ea6edd5",
   "metadata": {},
   "outputs": [],
   "source": [
    "import json \n",
    "\n",
    "CLASS_MAPPINGS = json.load(\n",
    "    open(\n",
    "        \"/home/vito/millig/gio/worldcereal-cop4geoglam/src/worldcereal_cop4geoglam/data/class_mappings.json\"\n",
    "    )\n",
    ")\n",
    "ewoc_to_label = pd.concat(\n",
    "    [LR[[\"ewoc_code\", \"label_full\"]], SR[[\"ewoc_code\", \"label_full\"]]]\n",
    ").drop_duplicates()\n",
    "croptype_ewoco_mapping = dict(\n",
    "    zip(ewoc_to_label[\"ewoc_code\"], ewoc_to_label[\"label_full\"])\n",
    ")\n",
    "\n",
    "# Add to CLASS_MAPPINGS\n",
    "CLASS_MAPPINGS[\"CROPTYPE_EWOCO\"] = croptype_ewoco_mapping"
   ]
  },
  {
   "cell_type": "code",
   "execution_count": 21,
   "id": "6f91c721",
   "metadata": {},
   "outputs": [
    {
     "data": {
      "text/plain": [
       "{1101060000: '18', 1105010010: '6', 1106000050: '16'}"
      ]
     },
     "execution_count": 21,
     "metadata": {},
     "output_type": "execute_result"
    }
   ],
   "source": [
    "# Reverse CROPTYPE to map label to code\n",
    "label_to_croptype_code = {v: k for k, v in CLASS_MAPPINGS[\"CROPTYPE\"].items()}\n",
    "\n",
    "# Map ewoc_code (CROPTYPE_EWOCO keys) to croptype_code (CROPTYPE keys) via label_full\n",
    "ewoco_to_croptype = {}\n",
    "for ewoco, label in CLASS_MAPPINGS[\"CROPTYPE_EWOCO\"].items():\n",
    "    croptype_code = label_to_croptype_code.get(label)\n",
    "    if croptype_code is not None:\n",
    "        ewoco_to_croptype[ewoco] = croptype_code\n",
    "\n",
    "# Add to CLASS_MAPPINGS\n",
    "CLASS_MAPPINGS[\"EWOCO_TO_CROPTYPE\"] = ewoco_to_croptype\n",
    "\n",
    "CLASS_MAPPINGS[\"EWOCO_TO_CROPTYPE\"]"
   ]
  },
  {
   "cell_type": "code",
   "execution_count": 14,
   "id": "a9cdb52d",
   "metadata": {},
   "outputs": [],
   "source": [
    "from sklearn.cluster import DBSCAN\n",
    "import numpy as np\n",
    "\n",
    "def cluster_points(df, distance=1, min_samples=10):\n",
    "    # Ensure the geometry is in EPSG:4326\n",
    "    if df.crs != 'EPSG:4326':\n",
    "        df = df.to_crs('EPSG:4326')\n",
    "\n",
    "    # Extract coordinates (assuming LR is in EPSG:4326)\n",
    "    coords = np.vstack([df.geometry.y, df.geometry.x]).T\n",
    "    coords_rad = np.radians(coords)\n",
    "    # To increase the distance, increase the value of eps (in radians).\n",
    "    # For example, for 2 km: eps = 2/6371\n",
    "    # You can pass a different eps value when calling cluster_points, e.g. cluster_points(df, eps=2/6371)\n",
    "    # DBSCAN with haversine metric (eps in radians, e.g. ~1km: 1/6371)\n",
    "    db = DBSCAN(eps=distance/6371, min_samples=min_samples, metric='haversine').fit(coords_rad)\n",
    "    df[f'{distance}km_patch_id'] = db.labels_\n",
    "    return df"
   ]
  },
  {
   "cell_type": "code",
   "execution_count": null,
   "id": "33dcfd40",
   "metadata": {},
   "outputs": [],
   "source": []
  },
  {
   "cell_type": "code",
   "execution_count": 15,
   "id": "ac382e42",
   "metadata": {},
   "outputs": [],
   "source": [
    "distance = 1  # distance in km\n",
    "LR = cluster_points(LR, distance)\n",
    "SR = cluster_points(SR, distance)"
   ]
  },
  {
   "cell_type": "code",
   "execution_count": 16,
   "id": "d9ac89ed",
   "metadata": {},
   "outputs": [
    {
     "data": {
      "image/png": "[encoded data removed]",
      "text/plain": [
       "<Figure size 800x2000 with 1 Axes>"
      ]
     },
     "metadata": {},
     "output_type": "display_data"
    },
    {
     "data": {
      "image/png": "[encoded data removed]",
      "text/plain": [
       "<Figure size 800x2000 with 1 Axes>"
      ]
     },
     "metadata": {},
     "output_type": "display_data"
    }
   ],
   "source": [
    "import matplotlib.pyplot as plt\n",
    "\n",
    "fig, ax = plt.subplots(figsize=(8, 20))\n",
    "LR.plot(column=f'{distance}km_patch_id', categorical=True, ax=ax, markersize=5, cmap='tab20')\n",
    "ax.set_title(\"DBSCAN Clusters LR\")\n",
    "\n",
    "plt.show()\n",
    "\n",
    "fig, ax = plt.subplots(figsize=(8, 20))\n",
    "SR.plot(column=f'{distance}km_patch_id', categorical=True, ax=ax, markersize=5, cmap='tab20')\n",
    "ax.set_title(\"DBSCAN Clusters SR\")\n",
    "\n",
    "plt.show()"
   ]
  },
  {
   "cell_type": "code",
   "execution_count": 18,
   "id": "95826f26",
   "metadata": {},
   "outputs": [],
   "source": [
    "SR.to_parquet(file_path / f\"SR_{distance}km_clusters.geoparquet\")\n",
    "LR.to_parquet(file_path / f\"LR_{distance}km_clusters.geoparquet\")"
   ]
  },
  {
   "cell_type": "code",
   "execution_count": null,
   "id": "3389f93c",
   "metadata": {},
   "outputs": [],
   "source": []
  },
  {
   "cell_type": "code",
   "execution_count": null,
   "id": "93bd05ef",
   "metadata": {},
   "outputs": [
    {
     "name": "stderr",
     "output_type": "stream",
     "text": [
      "2025-05-28 15:12:30 | INFO | Processing /home/vito/millig/projects/worldcereal/COP4GEOGLAM/kenya/SR_1km_clusters.geoparquet\n",
      "2025-05-28 15:12:31 | INFO | Expected observations frequency: month; Median observed distance between observations: [31] days\n",
      "2025-05-28 15:12:31 | WARNING | The following features are missing and are filled with NODATAVALUE: ['OPTICAL-B8A']\n",
      "2025-05-28 15:12:31 | INFO | All samples have the expected number of observations.\n",
      "2025-05-28 15:12:31 | WARNING | Some classes are missing in the mapping dictionary and thus will be removed: {'1201020020', '1201020010', '1107000020', '1106000050', '2000000000', '6000000000', '1202000000', '1101060000', '1103040000', '1105010050', '1201020060', '1202000010', '1109000500', '1101010000', '1201020040', '1202000020', '1103110070', '1103010010', '1103090000', '3000000000', '1103090040', '1103020040', '1105010010', '4300000000', '1201020000', '1107000010', '1111000000', '1205000000', '1103010020', '1111010100', '1200000000', '1107000050', '1105010020'}. A total of 2608 samples will be removed from the dataframe.\n"
     ]
    },
    {
     "data": {
      "text/html": [
       "<div>\n",
       "<style scoped>\n",
       "    .dataframe tbody tr th:only-of-type {\n",
       "        vertical-align: middle;\n",
       "    }\n",
       "\n",
       "    .dataframe tbody tr th {\n",
       "        vertical-align: top;\n",
       "    }\n",
       "\n",
       "    .dataframe thead th {\n",
       "        text-align: right;\n",
       "    }\n",
       "</style>\n",
       "<table border=\"1\" class=\"dataframe\">\n",
       "  <thead>\n",
       "    <tr style=\"text-align: right;\">\n",
       "      <th></th>\n",
       "      <th>sample_id</th>\n",
       "      <th>DEM-slo-20m</th>\n",
       "      <th>end_date</th>\n",
       "      <th>irrigation_status</th>\n",
       "      <th>geometry</th>\n",
       "      <th>quality_score_lc</th>\n",
       "      <th>DEM-alt-20m</th>\n",
       "      <th>start_date</th>\n",
       "      <th>h3_l3_cell</th>\n",
       "      <th>1km_patch_id</th>\n",
       "      <th>...</th>\n",
       "      <th>METEO-precipitation_flux-ts10-100m</th>\n",
       "      <th>METEO-precipitation_flux-ts11-100m</th>\n",
       "      <th>METEO-precipitation_flux-ts12-100m</th>\n",
       "      <th>METEO-precipitation_flux-ts13-100m</th>\n",
       "      <th>METEO-precipitation_flux-ts14-100m</th>\n",
       "      <th>METEO-precipitation_flux-ts15-100m</th>\n",
       "      <th>METEO-precipitation_flux-ts16-100m</th>\n",
       "      <th>valid_date</th>\n",
       "      <th>finetune_class</th>\n",
       "      <th>balancing_class</th>\n",
       "    </tr>\n",
       "  </thead>\n",
       "  <tbody>\n",
       "  </tbody>\n",
       "</table>\n",
       "<p>0 rows × 262 columns</p>\n",
       "</div>"
      ],
      "text/plain": [
       "Empty DataFrame\n",
       "Columns: [sample_id, DEM-slo-20m, end_date, irrigation_status, geometry, quality_score_lc, DEM-alt-20m, start_date, h3_l3_cell, 1km_patch_id, lat, ref_id, ewoc_code, year, available_timesteps, tile, quality_score_ct, extract, valid_position, lon, valid_time, OPTICAL-B02-ts0-10m, OPTICAL-B02-ts1-10m, OPTICAL-B02-ts2-10m, OPTICAL-B02-ts3-10m, OPTICAL-B02-ts4-10m, OPTICAL-B02-ts5-10m, OPTICAL-B02-ts6-10m, OPTICAL-B02-ts7-10m, OPTICAL-B02-ts8-10m, OPTICAL-B02-ts9-10m, OPTICAL-B02-ts10-10m, OPTICAL-B02-ts11-10m, OPTICAL-B02-ts12-10m, OPTICAL-B02-ts13-10m, OPTICAL-B02-ts14-10m, OPTICAL-B02-ts15-10m, OPTICAL-B02-ts16-10m, OPTICAL-B03-ts0-10m, OPTICAL-B03-ts1-10m, OPTICAL-B03-ts2-10m, OPTICAL-B03-ts3-10m, OPTICAL-B03-ts4-10m, OPTICAL-B03-ts5-10m, OPTICAL-B03-ts6-10m, OPTICAL-B03-ts7-10m, OPTICAL-B03-ts8-10m, OPTICAL-B03-ts9-10m, OPTICAL-B03-ts10-10m, OPTICAL-B03-ts11-10m, OPTICAL-B03-ts12-10m, OPTICAL-B03-ts13-10m, OPTICAL-B03-ts14-10m, OPTICAL-B03-ts15-10m, OPTICAL-B03-ts16-10m, OPTICAL-B04-ts0-10m, OPTICAL-B04-ts1-10m, OPTICAL-B04-ts2-10m, OPTICAL-B04-ts3-10m, OPTICAL-B04-ts4-10m, OPTICAL-B04-ts5-10m, OPTICAL-B04-ts6-10m, OPTICAL-B04-ts7-10m, OPTICAL-B04-ts8-10m, OPTICAL-B04-ts9-10m, OPTICAL-B04-ts10-10m, OPTICAL-B04-ts11-10m, OPTICAL-B04-ts12-10m, OPTICAL-B04-ts13-10m, OPTICAL-B04-ts14-10m, OPTICAL-B04-ts15-10m, OPTICAL-B04-ts16-10m, OPTICAL-B08-ts0-10m, OPTICAL-B08-ts1-10m, OPTICAL-B08-ts2-10m, OPTICAL-B08-ts3-10m, OPTICAL-B08-ts4-10m, OPTICAL-B08-ts5-10m, OPTICAL-B08-ts6-10m, OPTICAL-B08-ts7-10m, OPTICAL-B08-ts8-10m, OPTICAL-B08-ts9-10m, OPTICAL-B08-ts10-10m, OPTICAL-B08-ts11-10m, OPTICAL-B08-ts12-10m, OPTICAL-B08-ts13-10m, OPTICAL-B08-ts14-10m, OPTICAL-B08-ts15-10m, OPTICAL-B08-ts16-10m, SAR-VH-ts0-20m, SAR-VH-ts1-20m, SAR-VH-ts2-20m, SAR-VH-ts3-20m, SAR-VH-ts4-20m, SAR-VH-ts5-20m, SAR-VH-ts6-20m, SAR-VH-ts7-20m, SAR-VH-ts8-20m, SAR-VH-ts9-20m, SAR-VH-ts10-20m, ...]\n",
       "Index: []\n",
       "\n",
       "[0 rows x 262 columns]"
      ]
     },
     "execution_count": 3,
     "metadata": {},
     "output_type": "execute_result"
    }
   ],
   "source": [
    "from pathlib import Path\n",
    "from worldcereal_cop4geoglam.finetuning_utils import train_test_val_split, load_dataset\n",
    "\n",
    "\n",
    "distance = 1  # distance in km\n",
    "file_path = Path(\"/home/vito/millig/projects/worldcereal/COP4GEOGLAM/kenya\")\n",
    "\n",
    "parquet_files = file_path / f\"SR_{distance}km_clusters.geoparquet\"\n",
    "\n",
    "if isinstance(parquet_files, (str, Path)):\n",
    "    # If a single file is provided, convert it to a list\n",
    "    parquet_files = [parquet_files]\n",
    "\n",
    "if debug:\n",
    "    # select 1st file in debug mode\n",
    "    parquet_files = parquet_files[:1]\n",
    "    logger.warning(\"Debug mode is enabled.\")\n",
    "\n",
    "df = None\n",
    "for f in parquet_files:\n",
    "    logger.info(f\"Processing {f}\")\n",
    "    _data = pd.read_parquet(f, engine=\"fastparquet\")\n",
    "    _data = _data[_data[\"sample_id\"].notnull()]\n",
    "    _data[\"ewoc_code\"] = _data[\"ewoc_code\"].astype(int)\n",
    "\n",
    "    for tcol in [\"valid_time\", \"start_time\", \"end_time\", \"timestamp\"]:\n",
    "        if tcol in _data.columns:\n",
    "            _data[tcol] = pd.to_datetime(_data[tcol], utc=True)\n",
    "            _data[tcol] = _data[tcol].dt.tz_localize(None)\n",
    "\n",
    "    _data_pivot = process_parquet(_data, freq=timestep_freq)\n",
    "    _data_pivot.reset_index(inplace=True)\n",
    "    df = _data_pivot if df is None else pd.concat([df, _data_pivot])\n",
    "\n",
    "df = map_classes(df, finetune_classes, class_mappings=CLASS_MAPPINGS)\n",
    "\n",
    "load_dataset(\n",
    "    file_path / f\"SR_{distance}km_clusters.geoparquet\",\n",
    "    timestep_freq = \"month\",\n",
    "    finetune_classes = \"CROPLAND\",\n",
    ")"
   ]
  },
  {
   "cell_type": "code",
   "execution_count": null,
   "id": "bc2f83dc",
   "metadata": {},
   "outputs": [],
   "source": []
  }
 ],
 "metadata": {
  "kernelspec": {
   "display_name": "sadenv",
   "language": "python",
   "name": "python3"
  },
  "language_info": {
   "codemirror_mode": {
    "name": "ipython",
    "version": 3
   },
   "file_extension": ".py",
   "mimetype": "text/x-python",
   "name": "python",
   "nbconvert_exporter": "python",
   "pygments_lexer": "ipython3",
   "version": "3.10.12"
  }
 },
 "nbformat": 4,
 "nbformat_minor": 5
}
